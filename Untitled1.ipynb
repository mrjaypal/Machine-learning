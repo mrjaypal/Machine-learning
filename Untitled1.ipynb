{
  "nbformat": 4,
  "nbformat_minor": 0,
  "metadata": {
    "colab": {
      "name": "Untitled1.ipynb",
      "provenance": [],
      "collapsed_sections": []
    },
    "kernelspec": {
      "name": "python3",
      "display_name": "Python 3"
    },
    "language_info": {
      "name": "python"
    }
  },
  "cells": [
    {
      "cell_type": "code",
      "execution_count": 3,
      "metadata": {
        "colab": {
          "base_uri": "https://localhost:8080/"
        },
        "id": "CMKxkDscP4U-",
        "outputId": "364e99a7-71e8-4c82-9b25-451d84ab7cdc"
      },
      "outputs": [
        {
          "output_type": "execute_result",
          "data": {
            "text/plain": [
              "['this', 'is', 'csit', 'dept']"
            ]
          },
          "metadata": {},
          "execution_count": 3
        }
      ],
      "source": [
        "#split value\n",
        "sentence = \"this is csit dept\"\n",
        "\n",
        "i=sentence.split()\n",
        "[j  for j in i]"
      ]
    },
    {
      "cell_type": "code",
      "source": [
        "#count the no of words which are not alpha numerical\n",
        "sentenc=\"this is csit 1984  60\"\n",
        "i=sentence.split()\n",
        "[ j  for j in i  if not j isalpha()]"
      ],
      "metadata": {
        "colab": {
          "base_uri": "https://localhost:8080/",
          "height": 130
        },
        "id": "63bCTgJMRNWt",
        "outputId": "6cdbab28-9af6-4441-b1c5-7e7715ada527"
      },
      "execution_count": 11,
      "outputs": [
        {
          "output_type": "error",
          "ename": "SyntaxError",
          "evalue": "ignored",
          "traceback": [
            "\u001b[0;36m  File \u001b[0;32m\"<ipython-input-11-0882a94c28b8>\"\u001b[0;36m, line \u001b[0;32m4\u001b[0m\n\u001b[0;31m    [ j  for j in i  (if j not isalpha())]\u001b[0m\n\u001b[0m                       ^\u001b[0m\n\u001b[0;31mSyntaxError\u001b[0m\u001b[0;31m:\u001b[0m invalid syntax\n"
          ]
        }
      ]
    },
    {
      "cell_type": "code",
      "source": [
        "#print the no of word having char greater than 4\n",
        "sentence=\"i am at acropolis\"\n",
        "[j   for j in sentence.split() if not i is alpha() and len(j)>4]"
      ],
      "metadata": {
        "colab": {
          "base_uri": "https://localhost:8080/",
          "height": 287
        },
        "id": "aBLtIXYvSSHj",
        "outputId": "f3360794-0279-4147-96a1-15f51b22b1fe"
      },
      "execution_count": 16,
      "outputs": [
        {
          "output_type": "error",
          "ename": "NameError",
          "evalue": "ignored",
          "traceback": [
            "\u001b[0;31m---------------------------------------------------------------------------\u001b[0m",
            "\u001b[0;31mNameError\u001b[0m                                 Traceback (most recent call last)",
            "\u001b[0;32m<ipython-input-16-6a28a1fd05b1>\u001b[0m in \u001b[0;36m<module>\u001b[0;34m()\u001b[0m\n\u001b[1;32m      1\u001b[0m \u001b[0;31m#print the no of word having char greater than 4\u001b[0m\u001b[0;34m\u001b[0m\u001b[0;34m\u001b[0m\u001b[0;34m\u001b[0m\u001b[0m\n\u001b[1;32m      2\u001b[0m \u001b[0msentence\u001b[0m\u001b[0;34m=\u001b[0m\u001b[0;34m\"i am at acropolis\"\u001b[0m\u001b[0;34m\u001b[0m\u001b[0;34m\u001b[0m\u001b[0m\n\u001b[0;32m----> 3\u001b[0;31m \u001b[0;34m[\u001b[0m\u001b[0mj\u001b[0m   \u001b[0;32mfor\u001b[0m \u001b[0mj\u001b[0m \u001b[0;32min\u001b[0m \u001b[0msentence\u001b[0m\u001b[0;34m.\u001b[0m\u001b[0msplit\u001b[0m\u001b[0;34m(\u001b[0m\u001b[0;34m)\u001b[0m \u001b[0;32mif\u001b[0m \u001b[0;32mnot\u001b[0m \u001b[0mi\u001b[0m \u001b[0;32mis\u001b[0m \u001b[0malpha\u001b[0m\u001b[0;34m(\u001b[0m\u001b[0;34m)\u001b[0m \u001b[0;32mand\u001b[0m \u001b[0mlen\u001b[0m\u001b[0;34m(\u001b[0m\u001b[0mj\u001b[0m\u001b[0;34m)\u001b[0m\u001b[0;34m>\u001b[0m\u001b[0;36m4\u001b[0m\u001b[0;34m]\u001b[0m\u001b[0;34m\u001b[0m\u001b[0;34m\u001b[0m\u001b[0m\n\u001b[0m",
            "\u001b[0;32m<ipython-input-16-6a28a1fd05b1>\u001b[0m in \u001b[0;36m<listcomp>\u001b[0;34m(.0)\u001b[0m\n\u001b[1;32m      1\u001b[0m \u001b[0;31m#print the no of word having char greater than 4\u001b[0m\u001b[0;34m\u001b[0m\u001b[0;34m\u001b[0m\u001b[0;34m\u001b[0m\u001b[0m\n\u001b[1;32m      2\u001b[0m \u001b[0msentence\u001b[0m\u001b[0;34m=\u001b[0m\u001b[0;34m\"i am at acropolis\"\u001b[0m\u001b[0;34m\u001b[0m\u001b[0;34m\u001b[0m\u001b[0m\n\u001b[0;32m----> 3\u001b[0;31m \u001b[0;34m[\u001b[0m\u001b[0mj\u001b[0m   \u001b[0;32mfor\u001b[0m \u001b[0mj\u001b[0m \u001b[0;32min\u001b[0m \u001b[0msentence\u001b[0m\u001b[0;34m.\u001b[0m\u001b[0msplit\u001b[0m\u001b[0;34m(\u001b[0m\u001b[0;34m)\u001b[0m \u001b[0;32mif\u001b[0m \u001b[0;32mnot\u001b[0m \u001b[0mi\u001b[0m \u001b[0;32mis\u001b[0m \u001b[0malpha\u001b[0m\u001b[0;34m(\u001b[0m\u001b[0;34m)\u001b[0m \u001b[0;32mand\u001b[0m \u001b[0mlen\u001b[0m\u001b[0;34m(\u001b[0m\u001b[0mj\u001b[0m\u001b[0;34m)\u001b[0m\u001b[0;34m>\u001b[0m\u001b[0;36m4\u001b[0m\u001b[0;34m]\u001b[0m\u001b[0;34m\u001b[0m\u001b[0;34m\u001b[0m\u001b[0m\n\u001b[0m",
            "\u001b[0;31mNameError\u001b[0m: name 'alpha' is not defined"
          ]
        }
      ]
    },
    {
      "cell_type": "code",
      "source": [
        "#use the nested list comprihension to find all the no 1 to 100 that are divisible by any no 2 to 5\n",
        "\n",
        "[i  for j in range (2 ,5) for i in range(1,101)  if i%j==0 ] "
      ],
      "metadata": {
        "colab": {
          "base_uri": "https://localhost:8080/"
        },
        "id": "YS9p_8MyUCgs",
        "outputId": "98e818fd-8b9c-4010-99b2-f6017091bf4e"
      },
      "execution_count": 31,
      "outputs": [
        {
          "output_type": "execute_result",
          "data": {
            "text/plain": [
              "[2,\n",
              " 4,\n",
              " 6,\n",
              " 8,\n",
              " 10,\n",
              " 12,\n",
              " 14,\n",
              " 16,\n",
              " 18,\n",
              " 20,\n",
              " 22,\n",
              " 24,\n",
              " 26,\n",
              " 28,\n",
              " 30,\n",
              " 32,\n",
              " 34,\n",
              " 36,\n",
              " 38,\n",
              " 40,\n",
              " 42,\n",
              " 44,\n",
              " 46,\n",
              " 48,\n",
              " 50,\n",
              " 52,\n",
              " 54,\n",
              " 56,\n",
              " 58,\n",
              " 60,\n",
              " 62,\n",
              " 64,\n",
              " 66,\n",
              " 68,\n",
              " 70,\n",
              " 72,\n",
              " 74,\n",
              " 76,\n",
              " 78,\n",
              " 80,\n",
              " 82,\n",
              " 84,\n",
              " 86,\n",
              " 88,\n",
              " 90,\n",
              " 92,\n",
              " 94,\n",
              " 96,\n",
              " 98,\n",
              " 100,\n",
              " 3,\n",
              " 6,\n",
              " 9,\n",
              " 12,\n",
              " 15,\n",
              " 18,\n",
              " 21,\n",
              " 24,\n",
              " 27,\n",
              " 30,\n",
              " 33,\n",
              " 36,\n",
              " 39,\n",
              " 42,\n",
              " 45,\n",
              " 48,\n",
              " 51,\n",
              " 54,\n",
              " 57,\n",
              " 60,\n",
              " 63,\n",
              " 66,\n",
              " 69,\n",
              " 72,\n",
              " 75,\n",
              " 78,\n",
              " 81,\n",
              " 84,\n",
              " 87,\n",
              " 90,\n",
              " 93,\n",
              " 96,\n",
              " 99,\n",
              " 4,\n",
              " 8,\n",
              " 12,\n",
              " 16,\n",
              " 20,\n",
              " 24,\n",
              " 28,\n",
              " 32,\n",
              " 36,\n",
              " 40,\n",
              " 44,\n",
              " 48,\n",
              " 52,\n",
              " 56,\n",
              " 60,\n",
              " 64,\n",
              " 68,\n",
              " 72,\n",
              " 76,\n",
              " 80,\n",
              " 84,\n",
              " 88,\n",
              " 92,\n",
              " 96,\n",
              " 100]"
            ]
          },
          "metadata": {},
          "execution_count": 31
        }
      ]
    },
    {
      "cell_type": "code",
      "source": [
        ""
      ],
      "metadata": {
        "id": "BuKC6KbzWbWh"
      },
      "execution_count": null,
      "outputs": []
    }
  ]
}